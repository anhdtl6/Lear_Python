{
 "cells": [
  {
   "cell_type": "code",
   "execution_count": 26,
   "metadata": {},
   "outputs": [
    {
     "name": "stdout",
     "output_type": "stream",
     "text": [
      "Chicken The For Coming Is Fox The\n"
     ]
    }
   ],
   "source": [
    "# Cho 1 chuỗi A  \n",
    "# Viết hàm đảo ngược thứ tự các từ trong chuỗi và đổi tất cả các chữ cái từ hoa thành thường và ngược lại. (kết quả là \"Chicken The For Coming Is Fox The\")\n",
    "str_A = 'tHE fOX iS cOMING fOR tHE cHICKEN'\n",
    "def reserve(str_A):\n",
    "    hoandoiStr = str_A.swapcase()\n",
    "    spitList = hoandoiStr.split()\n",
    "    reversed_str = spitList[::-1]\n",
    "    return \" \".join(reversed_str)\n",
    "print(reserve(str_A))"
   ]
  },
  {
   "cell_type": "code",
   "execution_count": 8,
   "metadata": {},
   "outputs": [
    {
     "data": {
      "text/plain": [
       "[(10, 2, 1), (9, 1, 2), (3, 2, 3), (6, 4, 4), (1, 2, 5)]"
      ]
     },
     "execution_count": 8,
     "metadata": {},
     "output_type": "execute_result"
    }
   ],
   "source": [
    "# Điểm thi học kỳ của sinh viên được lưu ở định dạng 1 tuple có 3 phần tử (m1, m2, e) gồm:\n",
    "# m1 = midterm1\n",
    "# m2 = midterm2\n",
    "# e = endterm\n",
    "# Cho một list gồm danh sách điểm thi của sinh viên 1 lớp. Viết chương trình Python để sắp xếp danh sách trước theo thứ tự tăng dần theo phần tử cuối cùng trong mỗi tuple (sắp xếp theo điểm cuối kỳ - endterm tăng dần).\n",
    "\n",
    "sort_list_last= [(1, 2, 5), (9, 1, 2), (6, 4, 4), (3, 2, 3), (10, 2, 1)]\n",
    "new_list = sorted(sort_list_last, key= lambda s: s[2])\n",
    "new_list"
   ]
  },
  {
   "cell_type": "code",
   "execution_count": 8,
   "metadata": {},
   "outputs": [
    {
     "name": "stdout",
     "output_type": "stream",
     "text": [
      "(mean(A), median(A), mode(A)) == (6.55, 7.0, [9])\n"
     ]
    }
   ],
   "source": [
    "# Cho một list A các điểm thi (từ 0-10) của các học viên trong lớp. Viết 3 hàm tính:\n",
    "\n",
    "# giá trị trung bình (mean) của dãy.\n",
    "# trung vị (median) của dãy A. trung vị là một số đứng ở vị trí giữa trong dãy số đã được sắp xếp theo thứ tự tăng dần, median chia dãy số cho trước thành 2 nửa bằng nhau. Nếu độ dài của dãy số là số lẻ, thì số ở giữa là median, nếu chiều dài của dãy số là số chẵn thì median được xác định bằng cách lấy trung bình của hai số ở giữa.\n",
    "# mode của dãy A. Mode là phần tử có số lần xuất hiện nhiều nhất trong dãy. Mode sẽ giúp ta trả lời câu hỏi: \"Trong lớp này, học viên đạt Điểm số nào nhiều nhất?\".\n",
    "# Lưu ý: kết quả trả ra sẽ là 1 list vì mode có thể nhiều hơn 1 giá trị.\n",
    "diemthi = [7, 8, 9, 2, 10, 9, 9, 9, 9, 4, 5, 6, 1, 5, 6, 7, 8, 6, 1, 10]\n",
    "diemthi2=[4,4,5,4,5,5]\n",
    "def getMean(lst):\n",
    "    total = 0\n",
    "    for val in lst:\n",
    "        total+=val\n",
    "    return total/len(lst)\n",
    "\n",
    "# print(getMean(diemthi))\n",
    "\n",
    "def getMedian(list):\n",
    "    listLength = len(list)\n",
    "    sortedList = sorted(list)\n",
    "    index = (listLength-1)//2 # lay phan nguyen\n",
    "    value = 0\n",
    "    if listLength % 2 != 0:\n",
    "        #length la so le\n",
    "        value = sortedList[index]\n",
    "    else:\n",
    "        #length la so chan\n",
    "        value = (sortedList[index]+sortedList[index+1])/2\n",
    "    return value\n",
    "\n",
    "# print(getMedian(diemthi2))\n",
    "\n",
    "def getMode(list):\n",
    "    dict1 = {}\n",
    "    for val in list:\n",
    "        counter = 0\n",
    "        if val in dict1:\n",
    "            counter = dict1[val]\n",
    "            counter+=1\n",
    "        dict1[val] = counter\n",
    "    maxCount = 0\n",
    "    resultArr = []\n",
    "    for key in dict1:\n",
    "        count = dict1[key]\n",
    "        if count > maxCount:\n",
    "            resultArr = [key]\n",
    "            maxCount = count\n",
    "        elif count == maxCount:\n",
    "            resultArr.append(key)\n",
    "    return resultArr\n",
    "\n",
    "print(f'(mean(A), median(A), mode(A)) == ({getMean(diemthi)}, {getMedian(diemthi)}, {getMode(diemthi)})')\n"
   ]
  }
 ],
 "metadata": {
  "interpreter": {
   "hash": "04635d289a519a1410467dd0afb0db42f9184808881ca68b2eb5a687a20a5a94"
  },
  "kernelspec": {
   "display_name": "Python 3.7.6 64-bit (system)",
   "name": "python3"
  },
  "language_info": {
   "codemirror_mode": {
    "name": "ipython",
    "version": 3
   },
   "file_extension": ".py",
   "mimetype": "text/x-python",
   "name": "python",
   "nbconvert_exporter": "python",
   "pygments_lexer": "ipython3",
   "version": "3.7.6"
  },
  "orig_nbformat": 4
 },
 "nbformat": 4,
 "nbformat_minor": 2
}
