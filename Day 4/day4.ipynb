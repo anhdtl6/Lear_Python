{
 "cells": [
  {
   "cell_type": "code",
   "execution_count": 26,
   "source": [
    "# Cho 1 chuỗi A  \r\n",
    "# Viết hàm đảo ngược thứ tự các từ trong chuỗi và đổi tất cả các chữ cái từ hoa thành thường và ngược lại. (kết quả là \"Chicken The For Coming Is Fox The\")\r\n",
    "str_A = 'tHE fOX iS cOMING fOR tHE cHICKEN'\r\n",
    "def reserve(str_A):\r\n",
    "    hoandoiStr = str_A.swapcase()\r\n",
    "    spitList = hoandoiStr.split()\r\n",
    "    reversed_str = spitList[::-1]\r\n",
    "    return \" \".join(reversed_str)\r\n",
    "print(reserve(str_A))"
   ],
   "outputs": [
    {
     "output_type": "stream",
     "name": "stdout",
     "text": [
      "Chicken The For Coming Is Fox The\n"
     ]
    }
   ],
   "metadata": {}
  },
  {
   "cell_type": "code",
   "execution_count": 8,
   "source": [
    "# Điểm thi học kỳ của sinh viên được lưu ở định dạng 1 tuple có 3 phần tử (m1, m2, e) gồm:\r\n",
    "# m1 = midterm1\r\n",
    "# m2 = midterm2\r\n",
    "# e = endterm\r\n",
    "# Cho một list gồm danh sách điểm thi của sinh viên 1 lớp. Viết chương trình Python để sắp xếp danh sách trước theo thứ tự tăng dần theo phần tử cuối cùng trong mỗi tuple (sắp xếp theo điểm cuối kỳ - endterm tăng dần).\r\n",
    "\r\n",
    "sort_list_last= [(1, 2, 5), (9, 1, 2), (6, 4, 4), (3, 2, 3), (10, 2, 1)]\r\n",
    "new_list = sorted(sort_list_last, key= lambda s: s[2])\r\n",
    "new_list"
   ],
   "outputs": [
    {
     "output_type": "execute_result",
     "data": {
      "text/plain": [
       "[(10, 2, 1), (9, 1, 2), (3, 2, 3), (6, 4, 4), (1, 2, 5)]"
      ]
     },
     "metadata": {},
     "execution_count": 8
    }
   ],
   "metadata": {}
  }
 ],
 "metadata": {
  "orig_nbformat": 4,
  "language_info": {
   "name": "python",
   "version": "3.7.6",
   "mimetype": "text/x-python",
   "codemirror_mode": {
    "name": "ipython",
    "version": 3
   },
   "pygments_lexer": "ipython3",
   "nbconvert_exporter": "python",
   "file_extension": ".py"
  },
  "kernelspec": {
   "name": "python3",
   "display_name": "Python 3.7.6 64-bit (system)"
  },
  "interpreter": {
   "hash": "04635d289a519a1410467dd0afb0db42f9184808881ca68b2eb5a687a20a5a94"
  }
 },
 "nbformat": 4,
 "nbformat_minor": 2
}