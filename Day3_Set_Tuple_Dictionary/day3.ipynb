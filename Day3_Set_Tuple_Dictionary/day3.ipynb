{
 "cells": [
  {
   "cell_type": "code",
   "execution_count": null,
   "source": [
    "# Bài count số\r\n",
    "my_list = [10, 21, 21, 40, 40, 52, 52, 1, 1, 2, 2, 2, 2, 11, 11, 11, 11, 25, 24, 24, 60, 40]\r\n",
    "from typing import Counter\r\n",
    "Counter(my_list)"
   ],
   "outputs": [],
   "metadata": {}
  },
  {
   "cell_type": "code",
   "execution_count": 49,
   "source": [
    "#Bài find pair\r\n",
    "\r\n",
    "A = [3, 6, 7, 9, 11, 12]\r\n",
    "sum = 18\r\n",
    "list = []\r\n",
    "for i, iVal in enumerate(A):\r\n",
    "    B = A[i+1::]\r\n",
    "    for j, jVal in enumerate(B):\r\n",
    "        if iVal+jVal == sum:\r\n",
    "            list.append((iVal,jVal))           \r\n",
    "print(list)"
   ],
   "outputs": [
    {
     "output_type": "stream",
     "name": "stdout",
     "text": [
      "[(6, 12), (7, 11)]\n"
     ]
    }
   ],
   "metadata": {}
  },
  {
   "cell_type": "code",
   "execution_count": null,
   "source": [
    "# Bài Unique value Dictionary\r\n",
    "unique_value_dict =[{\"V\":\"S001\"}, {\"V\": \"S002\"}, {\"VI\": \"S001\"}, {\"VI\": \"S005\"}, {\"VII\":\"S005\"}, {\"V\":\"S009\"},{\"VIII\":\"S007\"}]\r\n",
    "unique_value_set1 = set()\r\n",
    "for i in unique_value_dict:\r\n",
    "    value = list(i.values())[0]\r\n",
    "    unique_value_set1.add(value)\r\n",
    "print(unique_value_set1)"
   ],
   "outputs": [],
   "metadata": {}
  },
  {
   "cell_type": "code",
   "execution_count": null,
   "source": [
    "# In 1 sao\r\n",
    "n=5\r\n",
    "for i in range(1,n):\r\n",
    "    if i < n:\r\n",
    "        s = '* '*i\r\n",
    "        print(s)"
   ],
   "outputs": [],
   "metadata": {}
  },
  {
   "cell_type": "code",
   "execution_count": null,
   "source": [
    "# In 2 sao\r\n",
    "n= 4\r\n",
    "for i in range(1,n+1):\r\n",
    "    end = \"\\n\" if i < n else \"\" \r\n",
    "    print ((\"  \" * (n-i)) + (\"* \" * i),end = end)\r\n",
    "\r\n",
    "for i in range(0,n):\r\n",
    "    start = \"  \" * n if i > 0 else \"\"\r\n",
    "    print (start + (\"* \" * (n-i)) + (\"  \" * i))"
   ],
   "outputs": [],
   "metadata": {}
  },
  {
   "cell_type": "code",
   "execution_count": null,
   "source": [
    "# In 3 sao\r\n",
    "n=4\r\n",
    "for i in range(1, 2*n):\r\n",
    "    if i < n:\r\n",
    "        for j in range(1, i + 1):\r\n",
    "            if j == 1 or j == i:\r\n",
    "                print(\"*\", end=\" \")\r\n",
    "            else:\r\n",
    "                print(\" \", end=\" \")\r\n",
    "    elif i == n:\r\n",
    "        for j in range(1, 2*n+1):\r\n",
    "            print(\"*\", end=\" \")\r\n",
    "    else:\r\n",
    "        for j in range(1, 2*n + 1):\r\n",
    "            if j == 2*n or j == i+1:\r\n",
    "                print(\"*\", end=\" \")\r\n",
    "            else:\r\n",
    "                print(\" \", end=\" \")\r\n",
    "    print()"
   ],
   "outputs": [],
   "metadata": {}
  },
  {
   "cell_type": "code",
   "execution_count": null,
   "source": [
    "# Bài countdown XMAS\r\n",
    "import time\r\n",
    "from datetime import datetime\r\n",
    "while True:\r\n",
    "    time.sleep(10)\r\n",
    "    XMAS = datetime(year=2021, month=12, day=24, hour=0, minute=0, second=0)\r\n",
    "    countdown= XMAS -datetime.now()\r\n",
    "    print(\"Countdown to xmas :\", countdown)\r\n",
    "    if countdown ==0:\r\n",
    "        break"
   ],
   "outputs": [],
   "metadata": {}
  }
 ],
 "metadata": {
  "orig_nbformat": 4,
  "language_info": {
   "name": "python",
   "version": "3.7.6",
   "mimetype": "text/x-python",
   "codemirror_mode": {
    "name": "ipython",
    "version": 3
   },
   "pygments_lexer": "ipython3",
   "nbconvert_exporter": "python",
   "file_extension": ".py"
  },
  "kernelspec": {
   "name": "python3",
   "display_name": "Python 3.7.6 64-bit (system)"
  },
  "interpreter": {
   "hash": "04635d289a519a1410467dd0afb0db42f9184808881ca68b2eb5a687a20a5a94"
  }
 },
 "nbformat": 4,
 "nbformat_minor": 2
}