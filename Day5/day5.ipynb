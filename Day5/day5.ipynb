{
 "cells": [
  {
   "cell_type": "code",
   "execution_count": 7,
   "metadata": {},
   "outputs": [
    {
     "name": "stdout",
     "output_type": "stream",
     "text": [
      "{'LETTERS': 10, 'CASE': {'UPPER CASE': 2, 'LOWER CASE': 8}, 'DIGITS': 3}\n"
     ]
    }
   ],
   "source": [
    "# Viết hàm có đầu vào là 1 chuỗi, trả ra số chữ cái, số ký tự viết hoa, số ký tự viết thường và số chữ số trong chuỗi đó\n",
    "\n",
    "s = \"Hello World! 123\"\n",
    "def count_char_type_built_in(s):\n",
    "    letter,upper,lower,digit = 0,0,0,0\n",
    "    for i in s:\n",
    "        if (i.isdigit()):\n",
    "            digit +=1\n",
    "        elif (i.isupper()):\n",
    "            upper +=1\n",
    "        elif (i.islower()):\n",
    "            lower +=1\n",
    "    letter = upper+lower\n",
    "    return {\"LETTERS\":letter, \"CASE\": {\"UPPER CASE\":upper, \"LOWER CASE\":lower}, \"DIGITS\":digit}\n",
    "\n",
    "def count_char_type(s):\n",
    "    upperChars = \"\".join(chr(x) for x in range(65, 91))\n",
    "    lowerChars = \"\".join(chr(x) for x in range(97, 123))\n",
    "    digitChars = \"\".join(chr(x) for x in range(48, 58))\n",
    "    letter,upper,lower,digit = 0,0,0,0\n",
    "    for i in s:\n",
    "        if i in digitChars:\n",
    "            digit +=1\n",
    "        elif i in upperChars:\n",
    "            upper +=1\n",
    "        elif i in lowerChars:\n",
    "            lower +=1\n",
    "    letter = upper+lower\n",
    "    return {\"LETTERS\":letter, \"CASE\": {\"UPPER CASE\":upper, \"LOWER CASE\":lower}, \"DIGITS\":digit}\n",
    "\n",
    "print(count_char_type_built_in(s))"
   ]
  },
  {
   "cell_type": "code",
   "execution_count": 3,
   "metadata": {},
   "outputs": [],
   "source": [
    "#Bài 3: Regex - ApacheLog\n",
    "import sys\n",
    "import re\n",
    "def readfile_regex_image(filename):\n",
    "    f =  open(filename, encoding='utf-8-sig')\n",
    "    content = f.read()\n",
    "    data_find = re.findall(\"GET (.*\\.jpg)\", content, re.MULTILINE)\n",
    "    if(data_find):\n",
    "        domain = get_domain(filename)\n",
    "        #loại bỏ image trùng\n",
    "        data = set(data_find)\n",
    "        inc = 1\n",
    "        print (\"Danh sách ảnh trong file: \")\n",
    "        for path in data:\n",
    "            print(f\"{inc}. {domain}{path}\")\n",
    "            inc += 1\n",
    "    else:\n",
    "        print (\"Không có link ảnh trong file\")\n",
    "def get_domain(filename):\n",
    "    #regex như này thì đuôi file là google.com.vn vẫn hiểu được\n",
    "    re_host = re.search(\"[\\.](\\w*(\\.[a-z]{2,6}){1,2})$\", filename)\n",
    "    if re_host: domain = \"http://\"+re_host.groups()[0]\n",
    "    else: domain = \"\"\n",
    "    return domain\n",
    "###\n",
    "def main():\n",
    "    if len(sys.argv) != 2:\n",
    "        print('usage: ./homework8.py file')\n",
    "        sys.exit(1)\n",
    "    filename = sys.argv[1]\n",
    "    readfile_regex_image(filename)\n",
    "    sys.exit(1)\n",
    "if _name_ == '__main__':\n",
    "  main()"
   ]
  },
  {
   "cell_type": "code",
   "execution_count": 1,
   "metadata": {},
   "outputs": [
    {
     "name": "stdout",
     "output_type": "stream",
     "text": [
      "usage: ./wordcount.py {--count | --topcount} file\n"
     ]
    },
    {
     "ename": "SystemExit",
     "evalue": "1",
     "output_type": "error",
     "traceback": [
      "An exception has occurred, use %tb to see the full traceback.\n",
      "\u001b[1;31mSystemExit\u001b[0m\u001b[1;31m:\u001b[0m 1\n"
     ]
    },
    {
     "name": "stderr",
     "output_type": "stream",
     "text": [
      "C:\\Python37\\lib\\site-packages\\IPython\\core\\interactiveshell.py:3449: UserWarning: To exit: use 'exit', 'quit', or Ctrl-D.\n",
      "  warn(\"To exit: use 'exit', 'quit', or Ctrl-D.\", stacklevel=1)\n"
     ]
    }
   ],
   "source": [
    "#Bài 3: Bài tập tổng hợp phần Basic - Đếm từ\n",
    "import sys\n",
    "\n",
    "# Đếm từ\n",
    "def print_words(filename):\n",
    "    words_count = readfile_count_words(filename)\n",
    "    words_count_sorted =  sorted(list(words_count), key = lambda k: k[0])\n",
    "    for i in words_count_sorted:\n",
    "        print (i, \":\", words_count[i])\n",
    "\n",
    "def print_top(filename):\n",
    "    words_count = readfile_count_words(filename)\n",
    "    words_count_sorted =  sorted(list(words_count), key = words_count.get, reverse = True)\n",
    "    inc = 1\n",
    "    for i in words_count_sorted:\n",
    "        print (f\"{inc}. {i}: {words_count[i]}\")\n",
    "        inc += 1\n",
    "        if inc > 20: break\n",
    "\n",
    "def readfile_count_words(filename):\n",
    "    f =  open(filename, encoding='utf-8-sig')\n",
    "    content = remove_special_char(f.read())\n",
    "    list_str = content.split(\" \")\n",
    "    dict_count = {}\n",
    "    for i in list_str:\n",
    "        if i == '': continue\n",
    "        i = i.lower()\n",
    "        if i in dict_count: dict_count[i] += 1\n",
    "        else: dict_count[i] = 1\n",
    "\n",
    "    return dict_count\n",
    "def remove_special_char(str):\n",
    "    special_char = ['.', ',', '?', '!', '\\n', '\\r', '(', ')', '[', ']', ':', '--', ';', '`', \"' \", '\"']\n",
    "    for j in special_char:\n",
    "        str = str.replace(j, \" \")\n",
    "    return str\n",
    "\n",
    "def main():\n",
    "  if len(sys.argv) != 3:\n",
    "    print('usage: ./wordcount.py {--count | --topcount} file')\n",
    "    sys.exit(1)\n",
    "\n",
    "  option = sys.argv[1]\n",
    "  filename = sys.argv[2]\n",
    "  if option == '--count':\n",
    "    print_words(filename)\n",
    "  elif option == '--topcount':\n",
    "    print_top(filename)\n",
    "  else:\n",
    "    print('unknown option: ' + option)\n",
    "    sys.exit(1)\n",
    "\n",
    "if __name__ == '__main__':\n",
    "  main()"
   ]
  }
 ],
 "metadata": {
  "interpreter": {
   "hash": "04635d289a519a1410467dd0afb0db42f9184808881ca68b2eb5a687a20a5a94"
  },
  "kernelspec": {
   "display_name": "Python 3.7.6 64-bit (system)",
   "name": "python3"
  },
  "language_info": {
   "codemirror_mode": {
    "name": "ipython",
    "version": 3
   },
   "file_extension": ".py",
   "mimetype": "text/x-python",
   "name": "python",
   "nbconvert_exporter": "python",
   "pygments_lexer": "ipython3",
   "version": "3.7.6"
  },
  "orig_nbformat": 4
 },
 "nbformat": 4,
 "nbformat_minor": 2
}
