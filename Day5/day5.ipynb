{
 "cells": [
  {
   "cell_type": "code",
   "execution_count": 7,
   "source": [
    "# Viết hàm có đầu vào là 1 chuỗi, trả ra số chữ cái, số ký tự viết hoa, số ký tự viết thường và số chữ số trong chuỗi đó\r\n",
    "\r\n",
    "s = \"Hello World! 123\"\r\n",
    "def count_char_type_built_in(s):\r\n",
    "    letter,upper,lower,digit = 0,0,0,0\r\n",
    "    for i in s:\r\n",
    "        if (i.isdigit()):\r\n",
    "            digit +=1\r\n",
    "        elif (i.isupper()):\r\n",
    "            upper +=1\r\n",
    "        elif (i.islower()):\r\n",
    "            lower +=1\r\n",
    "    letter = upper+lower\r\n",
    "    return {\"LETTERS\":letter, \"CASE\": {\"UPPER CASE\":upper, \"LOWER CASE\":lower}, \"DIGITS\":digit}\r\n",
    "\r\n",
    "def count_char_type(s):\r\n",
    "    upperChars = \"\".join(chr(x) for x in range(65, 91))\r\n",
    "    lowerChars = \"\".join(chr(x) for x in range(97, 123))\r\n",
    "    digitChars = \"\".join(chr(x) for x in range(48, 58))\r\n",
    "    letter,upper,lower,digit = 0,0,0,0\r\n",
    "    for i in s:\r\n",
    "        if i in digitChars:\r\n",
    "            digit +=1\r\n",
    "        elif i in upperChars:\r\n",
    "            upper +=1\r\n",
    "        elif i in lowerChars:\r\n",
    "            lower +=1\r\n",
    "    letter = upper+lower\r\n",
    "    return {\"LETTERS\":letter, \"CASE\": {\"UPPER CASE\":upper, \"LOWER CASE\":lower}, \"DIGITS\":digit}\r\n",
    "\r\n",
    "print(count_char_type_built_in(s))"
   ],
   "outputs": [
    {
     "output_type": "stream",
     "name": "stdout",
     "text": [
      "{'LETTERS': 10, 'CASE': {'UPPER CASE': 2, 'LOWER CASE': 8}, 'DIGITS': 3}\n"
     ]
    }
   ],
   "metadata": {}
  }
 ],
 "metadata": {
  "orig_nbformat": 4,
  "language_info": {
   "name": "python",
   "version": "3.7.6",
   "mimetype": "text/x-python",
   "codemirror_mode": {
    "name": "ipython",
    "version": 3
   },
   "pygments_lexer": "ipython3",
   "nbconvert_exporter": "python",
   "file_extension": ".py"
  },
  "kernelspec": {
   "name": "python3",
   "display_name": "Python 3.7.6 64-bit (system)"
  },
  "interpreter": {
   "hash": "04635d289a519a1410467dd0afb0db42f9184808881ca68b2eb5a687a20a5a94"
  }
 },
 "nbformat": 4,
 "nbformat_minor": 2
}