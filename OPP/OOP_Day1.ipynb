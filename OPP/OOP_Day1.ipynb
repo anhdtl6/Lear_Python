{
 "cells": [
  {
   "cell_type": "code",
   "execution_count": null,
   "source": [
    "class BankAccount:\r\n",
    "    def __init__(self, account_number, account_name, balance):\r\n",
    "        self.account_number = account_number\r\n",
    "        self.account_name = account_name\r\n",
    "        self._balance= balance\r\n",
    "\r\n",
    "    def get_account_number(self):\r\n",
    "        return self.account_number\r\n",
    "\r\n",
    "    def get_account_name(self):\r\n",
    "        return self.account_name\r\n",
    "\r\n",
    "    def get_balance(self):\r\n",
    "        return self._balance\r\n",
    "\r\n",
    "    def display(self):\r\n",
    "        print(f\"Thông tin tài khoản: {self.get_account_number(), self.get_account_name(),self.get_balance()}\")\r\n",
    "\r\n",
    "    def withdraw(self, amount):\r\n",
    "        if 0 < amount < self._balance:\r\n",
    "            self._balance = self._balance - amount\r\n",
    "        else:\r\n",
    "            print(\"Số tiền rút không hợp lệ\")\r\n",
    "\r\n",
    "    def deposit(self, amount):\r\n",
    "        if amount > 0:\r\n",
    "            self._balance += amount\r\n",
    "        else:\r\n",
    "            print(\"Số tiền nộp không hợp lệ\")\r\n",
    "\r\n",
    "\r\n",
    "my_account = BankAccount(\"999000009\", \"Đỗ Thị Lan Anh\", 0)\r\n",
    "my_account.display()\r\n",
    "my_account.deposit(0)\r\n",
    "my_account.display()\r\n",
    "my_account.withdraw(610000)\r\n",
    "my_account.display()\r\n"
   ],
   "outputs": [],
   "metadata": {}
  }
 ],
 "metadata": {
  "orig_nbformat": 4,
  "language_info": {
   "name": "python",
   "version": "3.7.6",
   "mimetype": "text/x-python",
   "codemirror_mode": {
    "name": "ipython",
    "version": 3
   },
   "pygments_lexer": "ipython3",
   "nbconvert_exporter": "python",
   "file_extension": ".py"
  },
  "kernelspec": {
   "name": "python3",
   "display_name": "Python 3.7.6 64-bit (system)"
  },
  "interpreter": {
   "hash": "04635d289a519a1410467dd0afb0db42f9184808881ca68b2eb5a687a20a5a94"
  }
 },
 "nbformat": 4,
 "nbformat_minor": 2
}